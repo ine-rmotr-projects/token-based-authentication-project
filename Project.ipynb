{
 "cells": [
  {
   "cell_type": "markdown",
   "metadata": {},
   "source": [
    "![ine-divider](https://user-images.githubusercontent.com/7065401/92672068-398e8080-f2ee-11ea-82d6-ad53f7feb5c0.png)\n",
    "<hr>\n",
    "\n",
    "### Secure RESTful APIs using Python\n",
    "\n",
    "# Token-based authentication project\n",
    "\n",
    "This project asks you to manage token-based authentication for agent-verified connections."
   ]
  },
  {
   "cell_type": "markdown",
   "metadata": {},
   "source": [
    "![orange-divider](https://user-images.githubusercontent.com/7065401/92672455-187a5f80-f2ef-11ea-890c-40be9474f7b7.png)"
   ]
  },
  {
   "cell_type": "markdown",
   "metadata": {},
   "source": [
    "## Part 1\n",
    "\n",
    "**Managing multiple logins**\n",
    "\n",
    "In the lesson, we showed how a client might create an authenticated identity with a server, and use tokens to validate additional service requests.  The server `project.py` is very similar to the one shown in the lesson.  It varies only in adding a few additional authorized users and in personalizing the response so that each user receives something identifiably distinct from the `/get-info` route.\n",
    "\n",
    "The `project.py` server runs on port 5014, and uses the same `pubkey.pem` and `private.pem` used in the lesson itself for TLS encryption of the connection.\n",
    "\n",
    "For this task, you wish to have a client (or other micro-service) that manages multiple collections of credentials to make requests specific to varying users.  Write code to login as each of \"Diane\" and \"Eshana\" once, and make requests to the `/get-info` route as each of them several times without requiring a new login.  Feel free examine the code of `project.py`, as well as launching it by running it at a terminal."
   ]
  },
  {
   "cell_type": "markdown",
   "metadata": {},
   "source": [
    "![orange-divider](https://user-images.githubusercontent.com/7065401/92672455-187a5f80-f2ef-11ea-890c-40be9474f7b7.png)\n",
    "\n",
    "## Part 2\n",
    "\n",
    "**Limiting token use**\n",
    "\n",
    "We would like to write an additional route called `/limited-info` that behaves very similarly to `get-info`. However, unlike `/get-info` which allows authentication tokens to have unlimited use, `/limited-info` will expire tokens after 3 uses.  After that, a new login will be required for use of the service.\n",
    "\n",
    "For example, we would expect to see behavior like this.  You should write a new server that behaves in this manner.\n",
    "\n",
    "```python\n",
    "resp = requests.post(\"https://localhost:5015/login\", verify='pubkey.pem',\n",
    "                         data=dict(username='Carlos', password='carlos_pw'))\n",
    "cookies = resp.cookies\n",
    "for _ in range(5):\n",
    "    resp = requests.get(\"https://localhost:5015/limited-info\", \n",
    "                        verify='pubkey.pem', cookies=cookies)\n",
    "    if resp.status_code == 200:\n",
    "        print(json.loads(resp.text))\n",
    "    else:\n",
    "        print(resp.status_code, resp.text)\n",
    "```\n",
    "```\n",
    "{'Carlos favorite number': 62}\n",
    "{'Carlos favorite number': 4}\n",
    "{'Carlos favorite number': 8}\n",
    "403 Carlos denied access to resource\n",
    "403 Carlos denied access to resource\n",
    "```\n",
    "\n",
    "Note specifically, that once denied once, the user continues to lack access until they login again (which may or not be permitted under the service terms)."
   ]
  },
  {
   "cell_type": "markdown",
   "metadata": {},
   "source": [
    "![orange-divider](https://user-images.githubusercontent.com/7065401/92672455-187a5f80-f2ef-11ea-890c-40be9474f7b7.png)"
   ]
  }
 ],
 "metadata": {
  "kernelspec": {
   "display_name": "Python 3",
   "language": "python",
   "name": "python3"
  },
  "language_info": {
   "codemirror_mode": {
    "name": "ipython",
    "version": 3
   },
   "file_extension": ".py",
   "mimetype": "text/x-python",
   "name": "python",
   "nbconvert_exporter": "python",
   "pygments_lexer": "ipython3",
   "version": "3.8.6"
  }
 },
 "nbformat": 4,
 "nbformat_minor": 4
}
