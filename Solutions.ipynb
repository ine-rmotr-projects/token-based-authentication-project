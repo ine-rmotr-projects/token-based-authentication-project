{
 "cells": [
  {
   "cell_type": "markdown",
   "metadata": {},
   "source": [
    "![ine-divider](https://user-images.githubusercontent.com/7065401/92672068-398e8080-f2ee-11ea-82d6-ad53f7feb5c0.png)\n",
    "<hr>\n",
    "\n",
    "### Secure RESTful APIs using Python\n",
    "\n",
    "# Token-based authentication project\n",
    "\n",
    "This project asks you to manage token-based authentication for agent-verified connections."
   ]
  },
  {
   "cell_type": "markdown",
   "metadata": {},
   "source": [
    "![orange-divider](https://user-images.githubusercontent.com/7065401/92672455-187a5f80-f2ef-11ea-890c-40be9474f7b7.png)"
   ]
  },
  {
   "cell_type": "markdown",
   "metadata": {},
   "source": [
    "## Part 1\n",
    "\n",
    "**Managing multiple logins**\n",
    "\n",
    "In the lesson, we showed how a client might create an authenticated identity with a server, and use tokens to validate additional service requests.  The server `project.py` is very similar to the one shown in the lesson.  It varies only in adding a few additional authorized users and in personalizing the response so that each user receives something identifiably distinct from the `/get-info` route.\n",
    "\n",
    "The `project.py` server runs on port 5014, and uses the same `pubkey.pem` and `private.pem` used in the lesson itself for TLS encryption of the connection.\n",
    "\n",
    "For this task, you wish to have a client (or other micro-service) that manages multiple collections of credentials to make requests specific to varying users.  Write code to login as each of \"Diane\" and \"Eshana\" once, and make requests to the `/get-info` route as each of them several times without requiring a new login.  Feel free examine the code of `project.py`, as well as launching it by running it at a terminal."
   ]
  },
  {
   "cell_type": "markdown",
   "metadata": {},
   "source": [
    "**A possible solution**\n",
    "\n",
    "Once the structure of the lesson is understood, it is clear that maintaining multiple credential sets is not much harder than maintaining a single one.  An obvious approach is simply to maintain a dictionary mapping user to their relevant credential set."
   ]
  },
  {
   "cell_type": "code",
   "execution_count": 5,
   "metadata": {},
   "outputs": [],
   "source": [
    "import requests\n",
    "credentials = dict()\n",
    "\n",
    "requests.packages.urllib3.disable_warnings()\n",
    "\n",
    "for user, pwd in [('Diane', 'diane_pw'), ('Eshana', 'eshana_pw')]:\n",
    "    resp = requests.post(\"https://localhost:5014/login\", verify='pubkey.pem',\n",
    "                         data=dict(username=user, password=pwd))\n",
    "    if resp.status_code == 200:\n",
    "        credentials[user] = resp.cookies"
   ]
  },
  {
   "cell_type": "markdown",
   "metadata": {},
   "source": [
    "As an example of multi-user credentials, let's make a validated request for each user twice, in an interleaved way."
   ]
  },
  {
   "cell_type": "code",
   "execution_count": 12,
   "metadata": {},
   "outputs": [
    {
     "name": "stdout",
     "output_type": "stream",
     "text": [
      "{'Diane favorite number': 84}\n",
      "{'Eshana favorite number': 58}\n",
      "{'Diane favorite number': 40}\n",
      "{'Eshana favorite number': 4}\n"
     ]
    }
   ],
   "source": [
    "import json\n",
    "for _ in range(2):\n",
    "    for user in ('Diane', 'Eshana'):\n",
    "        resp = requests.get(\"https://localhost:5014/get-info\", \n",
    "                             verify='pubkey.pem', cookies=credentials[user])\n",
    "        if resp.status_code == 200:\n",
    "            print(json.loads(resp.text))"
   ]
  },
  {
   "cell_type": "markdown",
   "metadata": {},
   "source": [
    "![orange-divider](https://user-images.githubusercontent.com/7065401/92672455-187a5f80-f2ef-11ea-890c-40be9474f7b7.png)\n",
    "\n",
    "## Part 2\n",
    "\n",
    "**Limiting token use**\n",
    "\n",
    "We would like to write an additional route called `/limited-info` that behaves very similarly to `get-info`. However, unlike `/get-info` which allows authentication tokens to have unlimited use, `/limited-info` will expire tokens after 3 uses.  After that, a new login will be required for use of the service.\n",
    "\n",
    "For example, we would expect to see behavior like this.  You should write a new server that behaves in this manner.\n",
    "\n",
    "```python\n",
    "resp = requests.post(\"https://localhost:5015/login\", verify='pubkey.pem',\n",
    "                         data=dict(username='Carlos', password='carlos_pw'))\n",
    "cookies = resp.cookies\n",
    "for _ in range(5):\n",
    "    resp = requests.get(\"https://localhost:5015/limited-info\", \n",
    "                        verify='pubkey.pem', cookies=cookies)\n",
    "    if resp.status_code == 200:\n",
    "        print(json.loads(resp.text))\n",
    "    else:\n",
    "        print(resp.status_code, resp.text)\n",
    "```\n",
    "```\n",
    "{'Carlos favorite number': 62}\n",
    "{'Carlos favorite number': 4}\n",
    "{'Carlos favorite number': 8}\n",
    "403 Carlos denied access to resource\n",
    "403 Carlos denied access to resource\n",
    "```\n",
    "\n",
    "Note specifically, that once denied once, the user continues to lack access until they login again (which may or not be permitted under the service terms)."
   ]
  },
  {
   "cell_type": "markdown",
   "metadata": {},
   "source": [
    "**A possible solution**\n",
    "\n",
    "As with the first task, understanding the goal is most of the work.  We simply have to keep track on the server of how often a given route has been used by a given user.  For example:\n",
    "\n",
    "```python\n",
    "# Global dictionaries\n",
    "auth_tokens = dict()\n",
    "usage_count = dict()\n",
    "\n",
    "# `/login` route defined here ...\n",
    "\n",
    "@app.route('/limited-info')\n",
    "def limited_info():\n",
    "    username = request.cookies.get('app1-username')\n",
    "    token = request.cookies.get('app1-token', object())\n",
    "    if token != auth_tokens.get(username):\n",
    "        return make_response(f\"{username} denied access to resource\", 403)\n",
    "    uses = usage_count.get(username, 0)\n",
    "    if uses >= 3:\n",
    "        del auth_tokens[username]\n",
    "        del usage_count[username]\n",
    "        return make_response(f\"{username} denied access to resource\", 403)\n",
    "    else:\n",
    "        usage_count[username] = uses+1\n",
    "    return jsonify({f\"{username} favorite number\": randint(1, 100)})\n",
    "```"
   ]
  },
  {
   "cell_type": "markdown",
   "metadata": {},
   "source": [
    "![orange-divider](https://user-images.githubusercontent.com/7065401/92672455-187a5f80-f2ef-11ea-890c-40be9474f7b7.png)"
   ]
  }
 ],
 "metadata": {
  "kernelspec": {
   "display_name": "Python 3",
   "language": "python",
   "name": "python3"
  },
  "language_info": {
   "codemirror_mode": {
    "name": "ipython",
    "version": 3
   },
   "file_extension": ".py",
   "mimetype": "text/x-python",
   "name": "python",
   "nbconvert_exporter": "python",
   "pygments_lexer": "ipython3",
   "version": "3.8.6"
  }
 },
 "nbformat": 4,
 "nbformat_minor": 4
}
